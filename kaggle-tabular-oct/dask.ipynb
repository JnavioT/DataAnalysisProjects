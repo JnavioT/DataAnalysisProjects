{
 "cells": [
  {
   "cell_type": "code",
   "execution_count": 1,
   "metadata": {},
   "outputs": [],
   "source": [
    "import dask.dataframe as dd\n",
    "dtypes_dict = {\n",
    "    'game_num': 'int8', 'event_id': 'int8', 'event_time': 'float16',\n",
    "    'ball_pos_x': 'float16', 'ball_pos_y': 'float16', 'ball_pos_z': 'float16',\n",
    "    'ball_vel_x': 'float16', 'ball_vel_y': 'float16', 'ball_vel_z': 'float16',\n",
    "    'p0_pos_x': 'float16', 'p0_pos_y': 'float16', 'p0_pos_z': 'float16',\n",
    "    'p0_vel_x': 'float16', 'p0_vel_y': 'float16', 'p0_vel_z': 'float16',\n",
    "    'p0_boost': 'float16', 'p1_pos_x': 'float16', 'p1_pos_y': 'float16',\n",
    "    'p1_pos_z': 'float16', 'p1_vel_x': 'float16', 'p1_vel_y': 'float16',\n",
    "    'p1_vel_z': 'float16', 'p1_boost': 'float16', 'p2_pos_x': 'float16',\n",
    "    'p2_pos_y': 'float16', 'p2_pos_z': 'float16', 'p2_vel_x': 'float16',\n",
    "    'p2_vel_y': 'float16', 'p2_vel_z': 'float16', 'p2_boost': 'float16',\n",
    "    'p3_pos_x': 'float16', 'p3_pos_y': 'float16', 'p3_pos_z': 'float16',\n",
    "    'p3_vel_x': 'float16', 'p3_vel_y': 'float16', 'p3_vel_z': 'float16',\n",
    "    'p3_boost': 'float16', 'p4_pos_x': 'float16', 'p4_pos_y': 'float16',\n",
    "    'p4_pos_z': 'float16', 'p4_vel_x': 'float16', 'p4_vel_y': 'float16',\n",
    "    'p4_vel_z': 'float16', 'p4_boost': 'float16', 'p5_pos_x': 'float16',\n",
    "    'p5_pos_y': 'float16', 'p5_pos_z': 'float16', 'p5_vel_x': 'float16',\n",
    "    'p5_vel_y': 'float16', 'p5_vel_z': 'float16', 'p5_boost': 'float16',\n",
    "    'boost0_timer': 'float16', 'boost1_timer': 'float16', 'boost2_timer': 'float16',\n",
    "    'boost3_timer': 'float16', 'boost4_timer': 'float16', 'boost5_timer': 'float16',\n",
    "    'player_scoring_next': 'O', 'team_scoring_next': 'O', 'team_A_scoring_within_10sec': 'int8',\n",
    "    'team_B_scoring_within_10sec': 'int8'\n",
    "}\n",
    "\n",
    "\n",
    "df = dd.read_csv('./data/train_*.csv', dtype = dtypes_dict)"
   ]
  },
  {
   "cell_type": "code",
   "execution_count": 14,
   "metadata": {},
   "outputs": [
    {
     "name": "stdout",
     "output_type": "stream",
     "text": [
      "Time taken for reading data: 6 seconds\n"
     ]
    }
   ],
   "source": [
    "from datetime import datetime\n",
    "start = datetime.now()\n",
    "\n",
    "df = dd.read_csv('./data/train_*.csv', dtype = dtypes_dict)\n",
    "df = df.compute()\n",
    "\n",
    "end = datetime.now()\n",
    "time_readcsv = end - start\n",
    "print(f'Time taken for reading data: {time_readcsv.seconds} seconds')"
   ]
  },
  {
   "cell_type": "code",
   "execution_count": 15,
   "metadata": {},
   "outputs": [
    {
     "data": {
      "text/plain": [
       "Index(['game_num', 'event_id', 'event_time', 'ball_pos_x', 'ball_pos_y',\n",
       "       'ball_pos_z', 'ball_vel_x', 'ball_vel_y', 'ball_vel_z', 'p0_pos_x',\n",
       "       'p0_pos_y', 'p0_pos_z', 'p0_vel_x', 'p0_vel_y', 'p0_vel_z', 'p0_boost',\n",
       "       'p1_pos_x', 'p1_pos_y', 'p1_pos_z', 'p1_vel_x', 'p1_vel_y', 'p1_vel_z',\n",
       "       'p1_boost', 'p2_pos_x', 'p2_pos_y', 'p2_pos_z', 'p2_vel_x', 'p2_vel_y',\n",
       "       'p2_vel_z', 'p2_boost', 'p3_pos_x', 'p3_pos_y', 'p3_pos_z', 'p3_vel_x',\n",
       "       'p3_vel_y', 'p3_vel_z', 'p3_boost', 'p4_pos_x', 'p4_pos_y', 'p4_pos_z',\n",
       "       'p4_vel_x', 'p4_vel_y', 'p4_vel_z', 'p4_boost', 'p5_pos_x', 'p5_pos_y',\n",
       "       'p5_pos_z', 'p5_vel_x', 'p5_vel_y', 'p5_vel_z', 'p5_boost',\n",
       "       'boost0_timer', 'boost1_timer', 'boost2_timer', 'boost3_timer',\n",
       "       'boost4_timer', 'boost5_timer', 'player_scoring_next',\n",
       "       'team_scoring_next', 'team_A_scoring_within_10sec',\n",
       "       'team_B_scoring_within_10sec'],\n",
       "      dtype='object')"
      ]
     },
     "execution_count": 15,
     "metadata": {},
     "output_type": "execute_result"
    }
   ],
   "source": [
    "df.keys()"
   ]
  },
  {
   "cell_type": "code",
   "execution_count": 16,
   "metadata": {},
   "outputs": [
    {
     "data": {
      "text/plain": [
       "(4318155, 61)"
      ]
     },
     "execution_count": 16,
     "metadata": {},
     "output_type": "execute_result"
    }
   ],
   "source": [
    "df.shape"
   ]
  },
  {
   "cell_type": "code",
   "execution_count": 17,
   "metadata": {},
   "outputs": [
    {
     "data": {
      "text/html": [
       "<div>\n",
       "<style scoped>\n",
       "    .dataframe tbody tr th:only-of-type {\n",
       "        vertical-align: middle;\n",
       "    }\n",
       "\n",
       "    .dataframe tbody tr th {\n",
       "        vertical-align: top;\n",
       "    }\n",
       "\n",
       "    .dataframe thead th {\n",
       "        text-align: right;\n",
       "    }\n",
       "</style>\n",
       "<table border=\"1\" class=\"dataframe\">\n",
       "  <thead>\n",
       "    <tr style=\"text-align: right;\">\n",
       "      <th></th>\n",
       "      <th>game_num</th>\n",
       "      <th>event_id</th>\n",
       "      <th>event_time</th>\n",
       "      <th>ball_pos_x</th>\n",
       "      <th>ball_pos_y</th>\n",
       "      <th>ball_pos_z</th>\n",
       "      <th>ball_vel_x</th>\n",
       "      <th>ball_vel_y</th>\n",
       "      <th>ball_vel_z</th>\n",
       "      <th>p0_pos_x</th>\n",
       "      <th>...</th>\n",
       "      <th>boost0_timer</th>\n",
       "      <th>boost1_timer</th>\n",
       "      <th>boost2_timer</th>\n",
       "      <th>boost3_timer</th>\n",
       "      <th>boost4_timer</th>\n",
       "      <th>boost5_timer</th>\n",
       "      <th>player_scoring_next</th>\n",
       "      <th>team_scoring_next</th>\n",
       "      <th>team_A_scoring_within_10sec</th>\n",
       "      <th>team_B_scoring_within_10sec</th>\n",
       "    </tr>\n",
       "  </thead>\n",
       "  <tbody>\n",
       "    <tr>\n",
       "      <th>0</th>\n",
       "      <td>1</td>\n",
       "      <td>-22</td>\n",
       "      <td>-33.31250</td>\n",
       "      <td>-0.0</td>\n",
       "      <td>0.0</td>\n",
       "      <td>1.854492</td>\n",
       "      <td>-0.0</td>\n",
       "      <td>0.0</td>\n",
       "      <td>0.0</td>\n",
       "      <td>41.81250</td>\n",
       "      <td>...</td>\n",
       "      <td>0.0</td>\n",
       "      <td>0.0</td>\n",
       "      <td>0.0</td>\n",
       "      <td>0.0</td>\n",
       "      <td>0.0</td>\n",
       "      <td>0.0</td>\n",
       "      <td>3</td>\n",
       "      <td>B</td>\n",
       "      <td>0</td>\n",
       "      <td>0</td>\n",
       "    </tr>\n",
       "    <tr>\n",
       "      <th>1</th>\n",
       "      <td>1</td>\n",
       "      <td>-22</td>\n",
       "      <td>-33.21875</td>\n",
       "      <td>-0.0</td>\n",
       "      <td>0.0</td>\n",
       "      <td>1.854492</td>\n",
       "      <td>-0.0</td>\n",
       "      <td>0.0</td>\n",
       "      <td>0.0</td>\n",
       "      <td>42.25000</td>\n",
       "      <td>...</td>\n",
       "      <td>0.0</td>\n",
       "      <td>0.0</td>\n",
       "      <td>0.0</td>\n",
       "      <td>0.0</td>\n",
       "      <td>0.0</td>\n",
       "      <td>0.0</td>\n",
       "      <td>3</td>\n",
       "      <td>B</td>\n",
       "      <td>0</td>\n",
       "      <td>0</td>\n",
       "    </tr>\n",
       "    <tr>\n",
       "      <th>2</th>\n",
       "      <td>1</td>\n",
       "      <td>-22</td>\n",
       "      <td>-33.09375</td>\n",
       "      <td>-0.0</td>\n",
       "      <td>0.0</td>\n",
       "      <td>1.854492</td>\n",
       "      <td>-0.0</td>\n",
       "      <td>0.0</td>\n",
       "      <td>0.0</td>\n",
       "      <td>43.21875</td>\n",
       "      <td>...</td>\n",
       "      <td>0.0</td>\n",
       "      <td>0.0</td>\n",
       "      <td>0.0</td>\n",
       "      <td>0.0</td>\n",
       "      <td>0.0</td>\n",
       "      <td>0.0</td>\n",
       "      <td>3</td>\n",
       "      <td>B</td>\n",
       "      <td>0</td>\n",
       "      <td>0</td>\n",
       "    </tr>\n",
       "    <tr>\n",
       "      <th>3</th>\n",
       "      <td>1</td>\n",
       "      <td>-22</td>\n",
       "      <td>-33.00000</td>\n",
       "      <td>-0.0</td>\n",
       "      <td>0.0</td>\n",
       "      <td>1.854492</td>\n",
       "      <td>-0.0</td>\n",
       "      <td>0.0</td>\n",
       "      <td>0.0</td>\n",
       "      <td>43.90625</td>\n",
       "      <td>...</td>\n",
       "      <td>0.0</td>\n",
       "      <td>0.0</td>\n",
       "      <td>0.0</td>\n",
       "      <td>0.0</td>\n",
       "      <td>0.0</td>\n",
       "      <td>0.0</td>\n",
       "      <td>3</td>\n",
       "      <td>B</td>\n",
       "      <td>0</td>\n",
       "      <td>0</td>\n",
       "    </tr>\n",
       "    <tr>\n",
       "      <th>4</th>\n",
       "      <td>1</td>\n",
       "      <td>-22</td>\n",
       "      <td>-32.87500</td>\n",
       "      <td>-0.0</td>\n",
       "      <td>0.0</td>\n",
       "      <td>1.854492</td>\n",
       "      <td>-0.0</td>\n",
       "      <td>0.0</td>\n",
       "      <td>0.0</td>\n",
       "      <td>44.96875</td>\n",
       "      <td>...</td>\n",
       "      <td>0.0</td>\n",
       "      <td>0.0</td>\n",
       "      <td>0.0</td>\n",
       "      <td>0.0</td>\n",
       "      <td>0.0</td>\n",
       "      <td>0.0</td>\n",
       "      <td>3</td>\n",
       "      <td>B</td>\n",
       "      <td>0</td>\n",
       "      <td>0</td>\n",
       "    </tr>\n",
       "  </tbody>\n",
       "</table>\n",
       "<p>5 rows × 61 columns</p>\n",
       "</div>"
      ],
      "text/plain": [
       "   game_num  event_id  event_time  ball_pos_x  ball_pos_y  ball_pos_z  \\\n",
       "0         1       -22   -33.31250        -0.0         0.0    1.854492   \n",
       "1         1       -22   -33.21875        -0.0         0.0    1.854492   \n",
       "2         1       -22   -33.09375        -0.0         0.0    1.854492   \n",
       "3         1       -22   -33.00000        -0.0         0.0    1.854492   \n",
       "4         1       -22   -32.87500        -0.0         0.0    1.854492   \n",
       "\n",
       "   ball_vel_x  ball_vel_y  ball_vel_z  p0_pos_x  ...  boost0_timer  \\\n",
       "0        -0.0         0.0         0.0  41.81250  ...           0.0   \n",
       "1        -0.0         0.0         0.0  42.25000  ...           0.0   \n",
       "2        -0.0         0.0         0.0  43.21875  ...           0.0   \n",
       "3        -0.0         0.0         0.0  43.90625  ...           0.0   \n",
       "4        -0.0         0.0         0.0  44.96875  ...           0.0   \n",
       "\n",
       "   boost1_timer  boost2_timer  boost3_timer  boost4_timer  boost5_timer  \\\n",
       "0           0.0           0.0           0.0           0.0           0.0   \n",
       "1           0.0           0.0           0.0           0.0           0.0   \n",
       "2           0.0           0.0           0.0           0.0           0.0   \n",
       "3           0.0           0.0           0.0           0.0           0.0   \n",
       "4           0.0           0.0           0.0           0.0           0.0   \n",
       "\n",
       "   player_scoring_next  team_scoring_next  team_A_scoring_within_10sec  \\\n",
       "0                    3                  B                            0   \n",
       "1                    3                  B                            0   \n",
       "2                    3                  B                            0   \n",
       "3                    3                  B                            0   \n",
       "4                    3                  B                            0   \n",
       "\n",
       "   team_B_scoring_within_10sec  \n",
       "0                            0  \n",
       "1                            0  \n",
       "2                            0  \n",
       "3                            0  \n",
       "4                            0  \n",
       "\n",
       "[5 rows x 61 columns]"
      ]
     },
     "execution_count": 17,
     "metadata": {},
     "output_type": "execute_result"
    }
   ],
   "source": [
    "#df = df.iloc[:,:-2]\n",
    "df.head(5)"
   ]
  },
  {
   "cell_type": "code",
   "execution_count": 18,
   "metadata": {},
   "outputs": [],
   "source": [
    "df.reset_index(drop = True).to_feather('train.feather')"
   ]
  },
  {
   "cell_type": "code",
   "execution_count": 19,
   "metadata": {},
   "outputs": [
    {
     "name": "stdout",
     "output_type": "stream",
     "text": [
      "Model A trained\n"
     ]
    }
   ],
   "source": [
    "import gc\n",
    "gc.collect()\n",
    "from lightgbm import LGBMClassifier\n",
    "df.dropna(inplace = True)\n",
    "y_b = df['team_B_scoring_within_10sec']\n",
    "y_a = df['team_A_scoring_within_10sec']\n",
    "to_drop = ['game_num','event_id', 'event_time', 'player_scoring_next',\n",
    "       'team_scoring_next',\n",
    "       'team_B_scoring_within_10sec','team_A_scoring_within_10sec']\n",
    "df.drop(to_drop, inplace = True, axis = 1)\n",
    "model = LGBMClassifier()\n",
    "model.fit(df, y_a)\n",
    "print('Model A trained')"
   ]
  },
  {
   "cell_type": "markdown",
   "metadata": {},
   "source": [
    "## Test"
   ]
  },
  {
   "cell_type": "code",
   "execution_count": 21,
   "metadata": {},
   "outputs": [
    {
     "data": {
      "text/plain": [
       "44"
      ]
     },
     "execution_count": 21,
     "metadata": {},
     "output_type": "execute_result"
    }
   ],
   "source": [
    "import pandas as pd\n",
    "X_test = pd.read_csv('./data/test.csv')\n",
    "X_test.drop('id', axis = 1, inplace = True)\n",
    "y_a_pred = model.predict_proba(X_test)\n",
    "del model\n",
    "gc.collect()"
   ]
  },
  {
   "cell_type": "code",
   "execution_count": 22,
   "metadata": {},
   "outputs": [
    {
     "name": "stdout",
     "output_type": "stream",
     "text": [
      "Model B trained\n",
      "Submission saved\n"
     ]
    }
   ],
   "source": [
    "model = LGBMClassifier()\n",
    "model.fit(df, y_b)\n",
    "print('Model B trained')\n",
    "y_b_pred = model.predict_proba(X_test)\n",
    "\n",
    "submission = pd.read_csv('sample_submission.csv', usecols = ['id'])\n",
    "submission['team_A_scoring_within_10sec'] = y_a_pred[:,1]\n",
    "submission['team_B_scoring_within_10sec'] = y_b_pred[:,1]\n",
    "submission.to_csv('submission.csv', index = False)\n",
    "\n",
    "print('Submission saved')"
   ]
  },
  {
   "cell_type": "code",
   "execution_count": null,
   "metadata": {},
   "outputs": [],
   "source": [
    "df['A_off'] = df.iloc[:,0].count(axis=1)\n",
    "df['B_off'] = df.iloc[:,1].count(axis=1)\n",
    "df"
   ]
  }
 ],
 "metadata": {
  "kernelspec": {
   "display_name": "ml",
   "language": "python",
   "name": "python3"
  },
  "language_info": {
   "codemirror_mode": {
    "name": "ipython",
    "version": 3
   },
   "file_extension": ".py",
   "mimetype": "text/x-python",
   "name": "python",
   "nbconvert_exporter": "python",
   "pygments_lexer": "ipython3",
   "version": "3.8.5 (default, Sep  3 2020, 21:29:08) [MSC v.1916 64 bit (AMD64)]"
  },
  "orig_nbformat": 4,
  "vscode": {
   "interpreter": {
    "hash": "1058bfeda7f9f0c569dbd31efb6e8e269d605bdb321bf52c8638c133c0e2ce37"
   }
  }
 },
 "nbformat": 4,
 "nbformat_minor": 2
}
